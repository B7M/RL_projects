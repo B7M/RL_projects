{
 "cells": [
  {
   "cell_type": "code",
   "execution_count": null,
   "metadata": {},
   "outputs": [],
   "source": [
    "from callback import CustomRewardCallback\n",
    "from plot import make_plot"
   ]
  },
  {
   "cell_type": "code",
   "execution_count": null,
   "metadata": {},
   "outputs": [],
   "source": [
    "# Setup model and environment\n",
    "env = CustomDoorKey(size=7, intermediate_reward=True, randomize_goal=True, k=0.1, render_mode=\"rgb\")\n",
    "env = ImgObsWrapper(env)\n",
    "model = PPO(\"CnnPolicy\", env, policy_kwargs=policy_kwargs, verbose=1)\n",
    "\n",
    "# Instantiate the callback\n",
    "max_reward = 1.09\n",
    "callback = CustomRewardCallback(check_freq=1000, reward_threshold=max_reward)  # set callback\n",
    "\n",
    "# Train the model\n",
    "model.learn(total_timesteps=int(2e8), callback=callback)  # apply callback\n",
    "model.save(\"model_5x5s\")\n",
    "\n",
    "# the plot function also saves the plot\n",
    "plt.savefig('5x5s.png')\n",
    "\n",
    "# Close the environment\n",
    "env.close()"
   ]
  }
 ],
 "metadata": {
  "kernelspec": {
   "display_name": "Python 3.9.12 ('base')",
   "language": "python",
   "name": "python3"
  },
  "language_info": {
   "name": "python",
   "version": "3.9.12"
  },
  "orig_nbformat": 4,
  "vscode": {
   "interpreter": {
    "hash": "443827bf24667f421fb10725def0166fa1673cc655d9aeee845987250124cade"
   }
  }
 },
 "nbformat": 4,
 "nbformat_minor": 2
}
