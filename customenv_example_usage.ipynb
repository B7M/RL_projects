{
 "cells": [
  {
   "cell_type": "code",
   "execution_count": 1,
   "id": "73773a9d-79a3-4e5e-8bda-9dd5c580ec1b",
   "metadata": {},
   "outputs": [
    {
     "name": "stdout",
     "output_type": "stream",
     "text": [
      "pygame 2.5.2 (SDL 2.28.3, Python 3.11.5)\n",
      "Hello from the pygame community. https://www.pygame.org/contribute.html\n"
     ]
    }
   ],
   "source": [
    "from customenv import CustomDoorKey\n",
    "\n",
    "# size is grid size\n",
    "# intermediate reward determines if picking up key/opening door gives reward\n",
    "# randomimze goal determines if goal should be randomized (cell on last column)\n",
    "# k determines discount on intermediate reward (k = 0.1 is Baldur's setting)\n",
    "env = CustomDoorKey(size=8, intermediate_reward=True, randomize_goal=True, k=1.0)"
   ]
  }
 ],
 "metadata": {
  "kernelspec": {
   "display_name": "Python 3 (ipykernel)",
   "language": "python",
   "name": "python3"
  },
  "language_info": {
   "codemirror_mode": {
    "name": "ipython",
    "version": 3
   },
   "file_extension": ".py",
   "mimetype": "text/x-python",
   "name": "python",
   "nbconvert_exporter": "python",
   "pygments_lexer": "ipython3",
   "version": "3.11.5"
  }
 },
 "nbformat": 4,
 "nbformat_minor": 5
}
