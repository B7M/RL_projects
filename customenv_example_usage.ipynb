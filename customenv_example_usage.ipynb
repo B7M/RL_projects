{
 "cells": [
  {
   "cell_type": "code",
   "execution_count": 7,
   "id": "73773a9d-79a3-4e5e-8bda-9dd5c580ec1b",
   "metadata": {},
   "outputs": [],
   "source": [
    "from customenv import CustomDoorKey\n",
    "\n",
    "from minigrid.wrappers import ImgObsWrapper\n",
    "from stable_baselines3 import PPO\n",
    "\n",
    "from customfeatureextractor import CNNFeaturesExtractor, CustomFeatureExtractor, CustomImgObsWrapper\n",
    "\n",
    "# size is grid size\n",
    "# intermediate reward determines if picking up key/opening door gives reward\n",
    "# randomimze goal determines if goal should be randomized (cell on last column)\n",
    "# k determines discount on intermediate reward (k = 0.1 is Baldur's setting)\n",
    "env = CustomDoorKey(size=8, intermediate_reward=True, randomize_goal=True, render_mode = \"human\")\n",
    "default_env = ImgObsWrapper(env)\n",
    "custom_env = CustomImgObsWrapper(env)"
   ]
  },
  {
   "cell_type": "code",
   "execution_count": 3,
   "id": "e8fa5725-2e71-4c12-8cf5-ca1ae474c469",
   "metadata": {},
   "outputs": [],
   "source": [
    "policy_kwargs = dict(\n",
    "    features_extractor_class=CNNFeaturesExtractor,\n",
    "    features_extractor_kwargs=dict(features_dim=128),\n",
    ")\n",
    "\n",
    "custom_policy_kwargs = dict(\n",
    "    features_extractor_class=CustomFeatureExtractor,\n",
    "    features_extractor_kwargs=dict(cnn_features_dim=128, mlp_features_dim=32),\n",
    ")"
   ]
  },
  {
   "cell_type": "code",
   "execution_count": null,
   "id": "0c2bcd33-ba70-4b42-bbac-043db5efa7c1",
   "metadata": {},
   "outputs": [],
   "source": [
    "# custom behavior, Babak can temper with this\n",
    "model = PPO(\"MultiInputPolicy\", custom_env, policy_kwargs=custom_policy_kwargs, verbose=1)\n",
    "model.learn(2e5)"
   ]
  },
  {
   "cell_type": "code",
   "execution_count": null,
   "id": "42ad5e3d-4d80-4992-846b-88c1b2ccdc61",
   "metadata": {},
   "outputs": [],
   "source": [
    "# default behavior, Baldur can use this\n",
    "model = PPO(\"CnnPolicy\", default_env, policy_kwargs=policy_kwargs, verbose=1)\n",
    "model.learn(2e5)\t"
   ]
  },
  {
   "cell_type": "code",
   "execution_count": 258,
   "id": "d19dde86-81bb-44d5-afdb-3b0b5260ff7c",
   "metadata": {},
   "outputs": [
    {
     "name": "stdout",
     "output_type": "stream",
     "text": [
      "0.6484375\n"
     ]
    }
   ],
   "source": [
    "obs = env.step(2)\n",
    "print(obs[1])"
   ]
  },
  {
   "cell_type": "code",
   "execution_count": null,
   "id": "4c2a96ca-9d0c-4aee-8607-aad1eb06cfcc",
   "metadata": {},
   "outputs": [],
   "source": []
  }
 ],
 "metadata": {
  "kernelspec": {
   "display_name": "Python 3 (ipykernel)",
   "language": "python",
   "name": "python3"
  },
  "language_info": {
   "codemirror_mode": {
    "name": "ipython",
    "version": 3
   },
   "file_extension": ".py",
   "mimetype": "text/x-python",
   "name": "python",
   "nbconvert_exporter": "python",
   "pygments_lexer": "ipython3",
   "version": "3.11.5"
  }
 },
 "nbformat": 4,
 "nbformat_minor": 5
}
